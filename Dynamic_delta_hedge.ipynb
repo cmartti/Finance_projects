{
 "cells": [
  {
   "cell_type": "markdown",
   "metadata": {},
   "source": [
    "# Dynamic Hedging of an European Call Option"
   ]
  },
  {
   "cell_type": "markdown",
   "metadata": {},
   "source": []
  },
  {
   "cell_type": "code",
   "execution_count": 62,
   "metadata": {},
   "outputs": [],
   "source": [
    "#Imports\n",
    "import numpy as np\n",
    "import matplotlib.pyplot as plt\n",
    "import yfinance as yf\n",
    "import pandas as pd\n",
    "from datetime import datetime\n",
    "from datetime import date\n",
    "from collections import deque\n",
    "\n",
    "\n",
    "from scipy.stats import norm"
   ]
  },
  {
   "cell_type": "code",
   "execution_count": 2,
   "metadata": {},
   "outputs": [
    {
     "data": {
      "text/plain": [
       "('2024-10-11',\n",
       " '2024-10-18',\n",
       " '2024-10-25',\n",
       " '2024-11-01',\n",
       " '2024-11-08',\n",
       " '2024-11-15',\n",
       " '2024-12-20',\n",
       " '2025-01-17',\n",
       " '2025-02-21',\n",
       " '2025-03-21',\n",
       " '2025-04-17',\n",
       " '2025-06-20',\n",
       " '2025-08-15',\n",
       " '2025-09-19',\n",
       " '2025-12-19',\n",
       " '2026-01-16',\n",
       " '2026-06-18',\n",
       " '2026-12-18',\n",
       " '2027-01-15')"
      ]
     },
     "execution_count": 2,
     "metadata": {},
     "output_type": "execute_result"
    }
   ],
   "source": [
    "ticker = yf.Ticker(\"MSFT\")\n",
    "maturity = ticker.options\n",
    "maturity\n",
    "\n",
    "#today = date.today()\n",
    "#ticker.option_chain(maturity)[0]#[\"bid\"]\n"
   ]
  },
  {
   "cell_type": "code",
   "execution_count": 21,
   "metadata": {},
   "outputs": [
    {
     "name": "stdout",
     "output_type": "stream",
     "text": [
      "S0: 373.9959716796875\n"
     ]
    }
   ],
   "source": [
    "#Enter which ticker to analyze \n",
    "ticker = \"MSFT\"\n",
    "stock = yf.Ticker(ticker)\n",
    "today = date.today()\n",
    "\n",
    "#Getting the initial price\n",
    "stock_data = stock.history(start=\"2010-01-01\",end=\"2024-01-01\")\n",
    "prices = stock_data[[\"Close\"]]\n",
    "prices.columns = [ticker]\n",
    "log_returns = np.log(prices).diff().dropna().to_numpy().flatten()\n",
    "#Initial stock price\n",
    "s0 = prices[ticker].to_numpy().flatten()[-1]\n",
    "print(\"S0:\", s0)\n",
    "\n",
    "\n",
    "\n",
    "\n",
    "\n",
    "\n"
   ]
  },
  {
   "cell_type": "code",
   "execution_count": 74,
   "metadata": {},
   "outputs": [],
   "source": [
    "# #Calculating the volatility\n",
    "\n",
    "\n",
    "# def EWMA(window_size, log_ret):\n",
    "#     #window_size denotes how many days behind to look\n",
    "#     #Lambda parameter for the EWMA estimation\n",
    "#     lamb = 0.94 #Recommended lambda value\n",
    "#     sqrd_lambs = [0.94**i for i in range(1,window_size+1)]\n",
    "#     scaled_returns = np.array(np.array(log_ret)*np.array(sqrd_lambs))\n",
    "#     var = ((1-lamb)/(lamb*(1-pow(lamb,window_size))))*scaled_returns.sum()\n",
    "#     print(var)\n",
    "#     return np.sqrt(var)*np.sqrt(252) #Returning the yearly volatility\n",
    "\n",
    "def EWMA(window_size, log_ret):\n",
    "    lamb = 0.94\n",
    "    weights = np.array([(1 - lamb) * lamb**i for i in range(window_size)])\n",
    "    weighted_squared_returns = weights * np.square(np.array(log_ret))\n",
    "    variance = weighted_squared_returns.sum()\n",
    "    return np.sqrt(variance * 252)  # Annualized volatility"
   ]
  },
  {
   "cell_type": "markdown",
   "metadata": {},
   "source": [
    "Account for volatility clustering with EWMA"
   ]
  },
  {
   "cell_type": "code",
   "execution_count": 87,
   "metadata": {},
   "outputs": [],
   "source": [
    "#Function for dynamically hedging an option with a daily frequency\n",
    "#To decrease the frequency, the volatility calculation needs to be updated!\n",
    "\n",
    "\n",
    "def dynamic_hedge(s0, maturity, window_size, n, freq=252): \n",
    "    '''\n",
    "    s0: initial stock price, see code above\n",
    "    maturty: time to maturity, in years\n",
    "    window_size: how many days behind to look for the volatility estimation\n",
    "    n: amount of iterations\n",
    "    freq: frequency of hedge updates, set to 252, otherwise need to change EWMA code\n",
    "    '''\n",
    "    r = 0.03 #Current risk-free rate on the bank-account, can be exapnded to a modell in future\n",
    "    present_vals = np.empty(n)\n",
    "    delta_t = maturity/freq\n",
    "    K = round(1.2*s0,0) #Strike price that is 120% of the current price\n",
    "    prev_returns = deque(log_returns[-window_size:], maxlen=window_size) #Creating a deque for faster calculation\n",
    "    vol = EWMA(window_size, prev_returns)\n",
    "    Z = np.random.standard_normal((n,freq+1))\n",
    "    for i in range(n):\n",
    "        cash_flow = np.zeros(freq) #Vector with the cash flow from the hedging\n",
    "        s = s0 #Initial stock price\n",
    "        vol = EWMA(window_size,log_returns[-window_size:])\n",
    "\n",
    "        for t in range(freq+1):\n",
    "            \n",
    "            #Time left to maturity\n",
    "            if t == freq:\n",
    "                V = np.maximum(s-K, 0)\n",
    "            else:\n",
    "                #Black-Scholes option price\n",
    "                T = delta_t * (freq-t) #Time left to maturity\n",
    "                d1 = (np.log(s/K)+(r+(vol**2)/2)*T)/(vol*np.sqrt(T))\n",
    "                d2 = d1 - vol*np.sqrt(T)\n",
    "                V = (s*norm.cdf(d1) - np.exp(-r*T)*K*norm.cdf(d2)) #V = option value\n",
    "            \n",
    "            #Hedging and calculating the cash flow from the previous periods hedge\n",
    "            if t == 0:\n",
    "                delta = norm.cdf(d1)\n",
    "                y = (V-delta*s)\n",
    "            else:\n",
    "                P = delta*s + np.exp(r*delta_t)*y # P = portfolio value\n",
    "                cash_flow[t-1] = np.exp(-r*delta_t*t)*(P-V) #Discounted value of the difference between protfolio and option value\n",
    "                delta = norm.cdf(d1)\n",
    "                y = V - delta*s\n",
    "\n",
    "            #Next periods stock price\n",
    "            prev_s = s\n",
    "            s = s*np.exp((r - (vol**2)/2)*delta_t + vol*np.sqrt(delta_t)*Z[i,t])\n",
    "            new_s = s\n",
    "            #Calculating the new window where the previous periods return is added to the volatility\n",
    "            prev_returns = np.append(prev_returns[1:],np.log(new_s/prev_s))\n",
    "            vol = EWMA(window_size, prev_returns)\n",
    "            \n",
    "        #Result from the delta hedging\n",
    "        present_vals[i] = np.sum(cash_flow)\n",
    "    mean = np.mean(present_vals)\n",
    "    std = np.std(present_vals)\n",
    "    return mean, std, present_vals"
   ]
  },
  {
   "cell_type": "code",
   "execution_count": 88,
   "metadata": {},
   "outputs": [
    {
     "name": "stdout",
     "output_type": "stream",
     "text": [
      "0\n"
     ]
    },
    {
     "ename": "TypeError",
     "evalue": "unsupported operand type(s) for *: 'NoneType' and 'NoneType'",
     "output_type": "error",
     "traceback": [
      "\u001b[1;31m---------------------------------------------------------------------------\u001b[0m",
      "\u001b[1;31mTypeError\u001b[0m                                 Traceback (most recent call last)",
      "Cell \u001b[1;32mIn[88], line 1\u001b[0m\n\u001b[1;32m----> 1\u001b[0m mean, std, distribution \u001b[38;5;241m=\u001b[39m \u001b[43mdynamic_hedge\u001b[49m\u001b[43m(\u001b[49m\u001b[43ms0\u001b[49m\u001b[43m,\u001b[49m\u001b[43m \u001b[49m\u001b[38;5;241;43m1\u001b[39;49m\u001b[43m,\u001b[49m\u001b[43m \u001b[49m\u001b[38;5;241;43m60\u001b[39;49m\u001b[43m,\u001b[49m\u001b[43m \u001b[49m\u001b[38;5;241;43m1000\u001b[39;49m\u001b[43m)\u001b[49m\n",
      "Cell \u001b[1;32mIn[87], line 52\u001b[0m, in \u001b[0;36mdynamic_hedge\u001b[1;34m(s0, maturity, window_size, n, freq)\u001b[0m\n\u001b[0;32m     50\u001b[0m     \u001b[38;5;66;03m#Calculating the new window where the previous periods return is added to the volatility\u001b[39;00m\n\u001b[0;32m     51\u001b[0m     prev_returns \u001b[38;5;241m=\u001b[39m prev_returns[\u001b[38;5;241m1\u001b[39m:]\u001b[38;5;241m.\u001b[39mtolist()\u001b[38;5;241m.\u001b[39mappend(np\u001b[38;5;241m.\u001b[39mlog(s\u001b[38;5;241m/\u001b[39mprev_s))\n\u001b[1;32m---> 52\u001b[0m     vol \u001b[38;5;241m=\u001b[39m \u001b[43mEWMA\u001b[49m\u001b[43m(\u001b[49m\u001b[43mwindow_size\u001b[49m\u001b[43m,\u001b[49m\u001b[43m \u001b[49m\u001b[43mprev_returns\u001b[49m\u001b[43m)\u001b[49m\n\u001b[0;32m     54\u001b[0m \u001b[38;5;66;03m#Result from the delta hedging\u001b[39;00m\n\u001b[0;32m     55\u001b[0m present_vals[i] \u001b[38;5;241m=\u001b[39m np\u001b[38;5;241m.\u001b[39msum(cash_flow)\n",
      "Cell \u001b[1;32mIn[74], line 17\u001b[0m, in \u001b[0;36mEWMA\u001b[1;34m(window_size, log_ret)\u001b[0m\n\u001b[0;32m     15\u001b[0m lamb \u001b[38;5;241m=\u001b[39m \u001b[38;5;241m0.94\u001b[39m\n\u001b[0;32m     16\u001b[0m weights \u001b[38;5;241m=\u001b[39m np\u001b[38;5;241m.\u001b[39marray([(\u001b[38;5;241m1\u001b[39m \u001b[38;5;241m-\u001b[39m lamb) \u001b[38;5;241m*\u001b[39m lamb\u001b[38;5;241m*\u001b[39m\u001b[38;5;241m*\u001b[39mi \u001b[38;5;28;01mfor\u001b[39;00m i \u001b[38;5;129;01min\u001b[39;00m \u001b[38;5;28mrange\u001b[39m(window_size)])\n\u001b[1;32m---> 17\u001b[0m weighted_squared_returns \u001b[38;5;241m=\u001b[39m weights \u001b[38;5;241m*\u001b[39m \u001b[43mnp\u001b[49m\u001b[38;5;241;43m.\u001b[39;49m\u001b[43msquare\u001b[49m\u001b[43m(\u001b[49m\u001b[43mnp\u001b[49m\u001b[38;5;241;43m.\u001b[39;49m\u001b[43marray\u001b[49m\u001b[43m(\u001b[49m\u001b[43mlog_ret\u001b[49m\u001b[43m)\u001b[49m\u001b[43m)\u001b[49m\n\u001b[0;32m     18\u001b[0m variance \u001b[38;5;241m=\u001b[39m weighted_squared_returns\u001b[38;5;241m.\u001b[39msum()\n\u001b[0;32m     19\u001b[0m \u001b[38;5;28;01mreturn\u001b[39;00m np\u001b[38;5;241m.\u001b[39msqrt(variance \u001b[38;5;241m*\u001b[39m \u001b[38;5;241m252\u001b[39m)\n",
      "\u001b[1;31mTypeError\u001b[0m: unsupported operand type(s) for *: 'NoneType' and 'NoneType'"
     ]
    }
   ],
   "source": [
    "\n",
    "mean, std, distribution = dynamic_hedge(s0, 1, 60, 1000)"
   ]
  },
  {
   "cell_type": "code",
   "execution_count": 59,
   "metadata": {},
   "outputs": [
    {
     "name": "stdout",
     "output_type": "stream",
     "text": [
      "The mean difference of the portfolio is: 11.379, the standard deviation is: 2.134\n"
     ]
    },
    {
     "data": {
      "image/png": "[encoded data removed]",
      "text/plain": [
       "<Figure size 640x480 with 1 Axes>"
      ]
     },
     "metadata": {},
     "output_type": "display_data"
    }
   ],
   "source": [
    "print(f\"The mean difference of the portfolio is: {round(mean,3)}, the standard deviation is: {round(std,3)}\")\n",
    "plt.hist(distribution, bins = 20, alpha=0.8)\n",
    "plt.show()"
   ]
  },
  {
   "cell_type": "code",
   "execution_count": 68,
   "metadata": {},
   "outputs": [
    {
     "data": {
      "text/plain": [
       "deque([np.float64(0.003658660790850199),\n",
       "       np.float64(-0.01413418728926441),\n",
       "       np.float64(0.008079410499066242),\n",
       "       np.float64(0.003667607847265053),\n",
       "       np.float64(0.030216830053646504),\n",
       "       np.float64(-0.0382360672416544),\n",
       "       np.float64(0.005838466138810894),\n",
       "       np.float64(0.02248565249978718),\n",
       "       np.float64(0.002368979400888982),\n",
       "       np.float64(0.023269686261597755),\n",
       "       np.float64(0.0064805558201728175),\n",
       "       np.float64(0.012779730289340208),\n",
       "       np.float64(0.010517059109680815),\n",
       "       np.float64(0.011156826017256982),\n",
       "       np.float64(0.007378412320655947),\n",
       "       np.float64(-0.0069347895945943705),\n",
       "       np.float64(0.024591820038884826),\n",
       "       np.float64(-0.00812123473529791),\n",
       "       np.float64(0.00974296133578978),\n",
       "       np.float64(0.00040589259629708607),\n",
       "       np.float64(0.01743059533666358),\n",
       "       np.float64(-0.016943724996663967),\n",
       "       np.float64(0.020314077436118794),\n",
       "       np.float64(-0.011645479706544393),\n",
       "       np.float64(0.01273116739257052),\n",
       "       np.float64(-0.0011122718339811044),\n",
       "       np.float64(0.0031215253598571024),\n",
       "       np.float64(0.010744770910199541),\n",
       "       np.float64(-0.010110958415401328),\n",
       "       np.float64(0.00015832963964346192),\n",
       "       np.float64(-0.0116801638774362),\n",
       "       np.float64(-0.01444255399441996),\n",
       "       np.float64(0.00911468430585316),\n",
       "       np.float64(-0.010036121770146345),\n",
       "       np.float64(0.005812769365137527),\n",
       "       np.float64(0.00880331271122703),\n",
       "       np.float64(-0.007860272248022326),\n",
       "       np.float64(0.008260975352881061),\n",
       "       np.float64(-2.680143664068879e-05),\n",
       "       np.float64(-0.022802502599668983),\n",
       "       np.float64(0.01303202185039165),\n",
       "       np.float64(0.0051654760402515265),\n",
       "       np.float64(0.0016356827079482272),\n",
       "       np.float64(-0.007097923972208875),\n",
       "       np.float64(0.007847776286445729),\n",
       "       np.float64(0.0027803468987315227),\n",
       "       np.float64(0.00021353408949753572),\n",
       "       np.float64(-0.0015759996304938184),\n",
       "       np.float64(0.0032294059436042133),\n",
       "       np.float64(0.0020230811894723644)],\n",
       "      maxlen=50)"
      ]
     },
     "execution_count": 68,
     "metadata": {},
     "output_type": "execute_result"
    }
   ],
   "source": [
    "prev_returns = deque(log_returns[-50:], maxlen=50)\n",
    "prev_returns"
   ]
  }
 ],
 "metadata": {
  "kernelspec": {
   "display_name": "Python 3",
   "language": "python",
   "name": "python3"
  },
  "language_info": {
   "codemirror_mode": {
    "name": "ipython",
    "version": 3
   },
   "file_extension": ".py",
   "mimetype": "text/x-python",
   "name": "python",
   "nbconvert_exporter": "python",
   "pygments_lexer": "ipython3",
   "version": "3.11.9"
  }
 },
 "nbformat": 4,
 "nbformat_minor": 2
}
