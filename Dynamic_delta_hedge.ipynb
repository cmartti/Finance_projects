{
 "cells": [
  {
   "cell_type": "markdown",
   "metadata": {},
   "source": [
    "# Dynamic Hedging of an European Call Option"
   ]
  },
  {
   "cell_type": "code",
   "execution_count": 1,
   "metadata": {},
   "outputs": [],
   "source": [
    "#Imports\n",
    "import numpy as np\n",
    "import matplotlib.pyplot as plt\n",
    "import yfinance as yf\n",
    "import pandas as pd\n",
    "from datetime import datetime\n",
    "from datetime import date\n",
    "from collections import deque\n",
    "\n",
    "\n",
    "from scipy.stats import norm"
   ]
  },
  {
   "cell_type": "code",
   "execution_count": 2,
   "metadata": {},
   "outputs": [
    {
     "data": {
      "text/plain": [
       "('2024-10-11',\n",
       " '2024-10-18',\n",
       " '2024-10-25',\n",
       " '2024-11-01',\n",
       " '2024-11-08',\n",
       " '2024-11-15',\n",
       " '2024-11-22',\n",
       " '2024-12-20',\n",
       " '2025-01-17',\n",
       " '2025-02-21',\n",
       " '2025-03-21',\n",
       " '2025-04-17',\n",
       " '2025-05-16',\n",
       " '2025-06-20',\n",
       " '2025-08-15',\n",
       " '2025-09-19',\n",
       " '2025-12-19',\n",
       " '2026-01-16',\n",
       " '2026-06-18',\n",
       " '2026-12-18',\n",
       " '2027-01-15')"
      ]
     },
     "execution_count": 2,
     "metadata": {},
     "output_type": "execute_result"
    }
   ],
   "source": [
    "ticker = yf.Ticker(\"MSFT\")\n",
    "maturity = ticker.options\n",
    "\n"
   ]
  },
  {
   "cell_type": "code",
   "execution_count": 3,
   "metadata": {},
   "outputs": [
    {
     "name": "stdout",
     "output_type": "stream",
     "text": [
      "S0: 373.9959716796875\n"
     ]
    }
   ],
   "source": [
    "#Enter which ticker to analyze \n",
    "ticker = \"MSFT\"\n",
    "stock = yf.Ticker(ticker)\n",
    "today = date.today()\n",
    "\n",
    "#Getting the initial price\n",
    "stock_data = stock.history(start=\"2010-01-01\",end=\"2024-01-01\")\n",
    "prices = stock_data[[\"Close\"]]\n",
    "prices.columns = [ticker]\n",
    "log_returns = np.log(prices).diff().dropna().to_numpy().flatten()\n",
    "#Initial stock price\n",
    "s0 = prices[ticker].to_numpy().flatten()[-1]\n",
    "print(\"S0:\", s0)\n",
    "\n",
    "\n",
    "\n",
    "\n",
    "\n",
    "\n"
   ]
  },
  {
   "cell_type": "code",
   "execution_count": 4,
   "metadata": {},
   "outputs": [],
   "source": [
    "# #Calculating the volatility\n",
    "\n",
    "\n",
    "def EWMA(window_size, log_ret):\n",
    "    lamb = 0.94\n",
    "    weights = np.array([(1 - lamb) * lamb**i for i in range(window_size)])\n",
    "    weighted_squared_returns = weights * np.square(np.array(log_ret))\n",
    "    variance = weighted_squared_returns.sum()\n",
    "    return np.sqrt(variance * 252)  # Annualized volatility"
   ]
  },
  {
   "cell_type": "markdown",
   "metadata": {},
   "source": [
    "Using EWMA to account for volatility clustering and to make the model more realistic"
   ]
  },
  {
   "cell_type": "code",
   "execution_count": 9,
   "metadata": {},
   "outputs": [],
   "source": [
    "#Function for dynamically hedging an option with a daily frequency\n",
    "#To decrease the frequency, the volatility calculation needs to be updated!\n",
    "\n",
    "\n",
    "def dynamic_hedge(s0, maturity, window_size, n, freq=252): \n",
    "    '''\n",
    "    s0: initial stock price, see code above\n",
    "    maturty: time to maturity, in years\n",
    "    window_size: how many days behind to look for the volatility estimation\n",
    "    n: amount of iterations\n",
    "    freq: frequency of hedge updates, set to 252, otherwise need to change EWMA code\n",
    "    '''\n",
    "    r = 0.03 #Current risk-free rate on the bank-account, can be exapnded to a modell in future\n",
    "    present_vals = np.empty(n)\n",
    "    delta_t = maturity/freq\n",
    "    K = round(1.2*s0,0) #Strike price that is 120% of the current price\n",
    "    prev_returns = log_returns[-window_size:]\n",
    "    vol = EWMA(window_size, prev_returns)\n",
    "    Z = np.random.standard_normal((n,freq+1))\n",
    "    for i in range(n):\n",
    "        cash_flow = np.zeros(freq) #Vector with the cash flow from the hedging\n",
    "        s = s0 #Initial stock price\n",
    "        vol = EWMA(window_size,log_returns[-window_size:])\n",
    "\n",
    "        for t in range(freq+1):\n",
    "            \n",
    "            #Time left to maturity\n",
    "            if t == freq:\n",
    "                V = np.maximum(s-K, 0)\n",
    "            else:\n",
    "                #Black-Scholes option price\n",
    "                T = delta_t * (freq-t) #Time left to maturity\n",
    "                d1 = (np.log(s/K)+(r+(vol**2)/2)*T)/(vol*np.sqrt(T))\n",
    "                d2 = d1 - vol*np.sqrt(T)\n",
    "                V = (s*norm.cdf(d1) - np.exp(-r*T)*K*norm.cdf(d2)) #V = option value\n",
    "            \n",
    "            #Hedging and calculating the cash flow from the previous periods hedge\n",
    "            if t == 0:\n",
    "                delta = norm.cdf(d1)\n",
    "                y = (V-delta*s)\n",
    "            else:\n",
    "                P = delta*s + np.exp(r*delta_t)*y # P = portfolio value\n",
    "                cash_flow[t-1] = np.exp(-r*delta_t*t)*(P-V) #Discounted value of the difference between protfolio and option value\n",
    "                delta = norm.cdf(d1)\n",
    "                y = V - delta*s\n",
    "\n",
    "            #Next periods stock price\n",
    "            prev_s = s\n",
    "            s = s*np.exp((r - (vol**2)/2)*delta_t + vol*np.sqrt(delta_t)*Z[i,t])\n",
    "            new_s = s\n",
    "            #Calculating the new window where the previous periods return is added to the volatility\n",
    "            prev_returns = np.append(prev_returns[1:], np.log(new_s/prev_s))\n",
    "            vol = EWMA(window_size, prev_returns)\n",
    "            \n",
    "        #Result from the delta hedging\n",
    "        present_vals[i] = np.sum(cash_flow)\n",
    "    mean = np.mean(present_vals)\n",
    "    std = np.std(present_vals)\n",
    "    return mean, std, present_vals"
   ]
  },
  {
   "cell_type": "code",
   "execution_count": 10,
   "metadata": {},
   "outputs": [],
   "source": [
    "\n",
    "mean, std, distribution = dynamic_hedge(s0, 1, 60, 1000)"
   ]
  },
  {
   "cell_type": "code",
   "execution_count": 12,
   "metadata": {},
   "outputs": [
    {
     "name": "stdout",
     "output_type": "stream",
     "text": [
      "The mean difference of the portfolio is: 11.028, the standard deviation is: 3.724\n"
     ]
    },
    {
     "data": {
      "image/png": "[encoded data removed]",
      "text/plain": [
       "<Figure size 640x480 with 1 Axes>"
      ]
     },
     "metadata": {},
     "output_type": "display_data"
    }
   ],
   "source": [
    "print(f\"The mean difference of the portfolio is: {round(mean,3)}, the standard deviation is: {round(std,3)}\")\n",
    "plt.hist(distribution, bins = 20, alpha=0.8)\n",
    "plt.show()"
   ]
  },
  {
   "cell_type": "markdown",
   "metadata": {},
   "source": [
    "As can be seen from the figure, the dynamic hedge results in a average profit of about $11. This means that by hedging the portfolio, the investor can earn on average $11 for free. However, when taking into account transaction costs, these profits might be smaller."
   ]
  }
 ],
 "metadata": {
  "kernelspec": {
   "display_name": ".venv",
   "language": "python",
   "name": "python3"
  },
  "language_info": {
   "codemirror_mode": {
    "name": "ipython",
    "version": 3
   },
   "file_extension": ".py",
   "mimetype": "text/x-python",
   "name": "python",
   "nbconvert_exporter": "python",
   "pygments_lexer": "ipython3",
   "version": "3.11.9"
  }
 },
 "nbformat": 4,
 "nbformat_minor": 2
}
