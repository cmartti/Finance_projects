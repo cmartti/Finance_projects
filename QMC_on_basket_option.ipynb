{
 "cells": [
  {
   "cell_type": "markdown",
   "metadata": {},
   "source": [
    "\n",
    "## Basket Option on Two Underlying Stocks\n",
    "\n",
    "Since we will have two dimensions to integrate over, the Quasi Monte Carlo will be a better alternative than the ordinary Monte Carlo methods. This method can handle these types of problems with greater accuracy and faster convergence than regular Monte Carlo, since the options payoff depens on smooth functions of the underlying assets. The QMC will be implemented with a Sobol sequence.\n",
    "\n",
    "Low discrepancy sequences such as Sobol sequenses are designed to fill out the space of possible values more evenly than purely random samples. These types of sequences reduce the likelihood of missing important areas of the payoff distribution. This leads to more accurate estimates for the basket option pricing. The stocks will also be correlated and modelling this with a Sobol sequence can capture this relationship more accuratley than random smapling.\n",
    "\n",
    "\n"
   ]
  },
  {
   "cell_type": "code",
   "execution_count": 49,
   "metadata": {},
   "outputs": [
    {
     "name": "stdout",
     "output_type": "stream",
     "text": [
      "(131072, 2)\n",
      "[np.float64(254.0), np.float64(363.0), np.float64(472.0)]\n",
      "[0.58337964]\n",
      "0.3808224890498157 0.27802632365996954\n"
     ]
    }
   ],
   "source": [
    "import numpy as np\n",
    "import matplotlib.pyplot as plt\n",
    "import yfinance as yf\n",
    "from scipy.stats import norm\n",
    "from scipy.stats import qmc\n",
    "from scipy.stats import pearsonr\n",
    "\n",
    "\n",
    "\n",
    "\n",
    "\n",
    "r = 0.04 #risk-free interest rate\n",
    "\n",
    "\n",
    "#Importing and modifying data\n",
    "MSFT = yf.Ticker(\"MSFT\")\n",
    "META = yf.Ticker(\"META\")\n",
    "\n",
    "msft_data = MSFT.history(start=\"2015-01-01\",end=\"2024-01-01\")\n",
    "meta_data = META.history(start=\"2015-01-01\",end=\"2024-01-01\")\n",
    "\n",
    "msft_price = msft_data[[\"Close\"]]\n",
    "meta_price = meta_data[[\"Close\"]]\n",
    "msft_price.columns = [\"MSFT\"]\n",
    "meta_price.columns = [\"META\"]\n",
    "\n",
    "msft_returns = np.log(msft_price).diff().dropna().to_numpy()\n",
    "meta_returns = np.log(meta_price).diff().dropna().to_numpy()\n",
    "\n",
    "#Sample volatilities, can be expanded in future to more complex volatilities\n",
    "msft_vol = np.std(msft_returns)*np.sqrt(252) #Rescaling to yearly volatility\n",
    "meta_vol = np.std(meta_returns)*np.sqrt(252) #Rescaling to yearly volatility\n",
    "\n",
    "#Calculating the correlation between the two stocks\n",
    "corr, p = pearsonr(msft_returns,meta_returns)\n",
    "#Creating correlation matrix\n",
    "#If the p-value is less than 0.05, then there is significant correlation between the two stocks\n",
    "#and this should be included in the model.\n",
    "if p < 0.05:\n",
    "    Sigma = np.array([[msft_vol**2,msft_vol*meta_vol*corr[0]],[msft_vol*meta_vol*corr[0], meta_vol**2]])\n",
    "else:\n",
    "    Sigma = np.array([[msft_vol**2, 0], [0, meta_vol**2]])\n",
    "\n",
    "#Creating a 2-d Sobol sequence (since we have 2 assets)\n",
    "sampler = qmc.Sobol(d=2, scramble=False)\n",
    "#m is how big the sample should be (2^17) want around 100 000 samples\n",
    "sobol = sampler.random_base2(m=17)\n",
    "print(sobol.shape)\n",
    "\n",
    "#Creating reasonable strike prices (70%,100%,130%) of current average price\n",
    "latest_msft = msft_price.iloc[-1,0]\n",
    "latest_meta = meta_price.iloc[-1,0]\n",
    "avg_price = (latest_msft+latest_meta)/2\n",
    "strikes = [np.floor(avg_price*x) for x in [0.7, 1, 1.3]]\n",
    "print(strikes)\n",
    "print(corr)\n",
    "print(meta_vol,msft_vol)\n"
   ]
  },
  {
   "cell_type": "markdown",
   "metadata": {},
   "source": [
    "The simulation of the two stock prices are done through calculating the Cholesky matrix, this is a matrix A such that\n",
    "$$\\Sigma = AA^{-1}$$\n",
    "This allows us to calculate the price of two assets when they are correlated.\n",
    "The payoff for the call option during each of the iterations is given by\n",
    "$$C = (0.5(s_1 + s_2)-K, 0)^+$$\n",
    "and for the put option by\n",
    "$$P = (K - 0.5(s_1 + s_2), 0)^+$$\n",
    "The finaly price for the option is the average payoff from all the iterations, discounted by the risk-free rate."
   ]
  },
  {
   "cell_type": "code",
   "execution_count": 50,
   "metadata": {},
   "outputs": [
    {
     "name": "stdout",
     "output_type": "stream",
     "text": [
      "The price for a Call with strike 254 is: $256.602\n",
      "The price for a Call with strike 363 is: $208.009\n",
      "The price for a Call with strike 472 is: $171.653\n",
      "\n",
      "The price for a Put with strike 254 is: $29.149\n",
      "The price for a Put with strike 363 is: $69.799\n",
      "The price for a Put with strike 472 is: $122.684\n",
      "\n"
     ]
    }
   ],
   "source": [
    "\n",
    "\n",
    "def qmcBasket(option, K, T, iterations):\n",
    "    #Creating a Cholesky matrix to take into account the correlation\n",
    "    A = np.linalg.cholesky(Sigma)\n",
    "    h = np.empty(iterations)\n",
    "    for i in range(iterations):\n",
    "        Z1 = norm.ppf(sobol[i+1][0]) #\"Random\" variable for MSFT\n",
    "        Z2 = norm.ppf(sobol[i+1][0]) #\"Random\" variable for META\n",
    "        X = A @ [Z1, Z2]\n",
    "        \n",
    "        S_msft = latest_msft*np.exp((r-(msft_vol**2)/2)*T + np.sqrt(T)*X[0])\n",
    "        S_meta = latest_meta*np.exp((r-(meta_vol**2)/2)*T + np.sqrt(T)*X[1])\n",
    "\n",
    "        if option == \"Call\":\n",
    "            #Payoff is the discounted payoff of the option\n",
    "            h[i] = np.exp(-r*T)*np.maximum(((S_msft+S_meta)/2)-K, 0)    \n",
    "        elif option == \"Put\":\n",
    "            h[i] = np.exp(-r*T)*np.maximum(K-((S_msft+S_meta)/2), 0)    \n",
    "\n",
    "    #Returning the average payoff\n",
    "    return np.mean(h)\n",
    "\n",
    "\n",
    "options = [\"Call\", \"Put\"]\n",
    "T = 5 #Years to maturity\n",
    "for option in options:\n",
    "    for k in strikes:\n",
    "        price = qmcBasket(option, k, T, 40000)\n",
    "        print(f\"The price for a {option} with strike {int(k)} is: ${round(price,3)}\")\n",
    "    print(\"\")"
   ]
  }
 ],
 "metadata": {
  "kernelspec": {
   "display_name": "Python 3",
   "language": "python",
   "name": "python3"
  },
  "language_info": {
   "codemirror_mode": {
    "name": "ipython",
    "version": 3
   },
   "file_extension": ".py",
   "mimetype": "text/x-python",
   "name": "python",
   "nbconvert_exporter": "python",
   "pygments_lexer": "ipython3",
   "version": "3.11.9"
  }
 },
 "nbformat": 4,
 "nbformat_minor": 2
}
